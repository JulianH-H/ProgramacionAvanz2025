{
  "nbformat": 4,
  "nbformat_minor": 0,
  "metadata": {
    "colab": {
      "provenance": [],
      "authorship_tag": "ABX9TyOBoYR74m09GRVLCQLhItIn",
      "include_colab_link": true
    },
    "kernelspec": {
      "name": "python3",
      "display_name": "Python 3"
    },
    "language_info": {
      "name": "python"
    }
  },
  "cells": [
    {
      "cell_type": "markdown",
      "metadata": {
        "id": "view-in-github",
        "colab_type": "text"
      },
      "source": [
        "<a href=\"https://colab.research.google.com/github/JulianH-H/ProgramacionAvanz2025/blob/main/DatosPython.ipynb\" target=\"_parent\"><img src=\"https://colab.research.google.com/assets/colab-badge.svg\" alt=\"Open In Colab\"/></a>"
      ]
    },
    {
      "cell_type": "markdown",
      "source": [
        "# **NumPy, Panda y MatPlotlib**\n",
        "\n",
        "**NumPy**\n",
        "\n",
        "  Libreria externa para Python que permite procesar:\n",
        "\n",
        "*   Arrays multidimensionales\n",
        "*   Operaciones Elemento a Elemento\n",
        "*   Metodos para el procesamiento de arrays\n",
        "*   Operaciones matematicas como logicas, Transformaciones de Fourier, manipulacion de formas, algebra lineal y RNG\n",
        "\n",
        "Para utilizarla debemos importar la libreria, para ello usamos el siguiente comando:"
      ],
      "metadata": {
        "id": "D7osWG51QYNi"
      }
    },
    {
      "cell_type": "code",
      "execution_count": null,
      "metadata": {
        "id": "qaU7dQIsNovH"
      },
      "outputs": [],
      "source": [
        "import numpy as np"
      ]
    },
    {
      "cell_type": "markdown",
      "source": [
        "En caso tal de reportar error debemos instalarla en nuestros sistemas mediante pip3, de aqui en adelante la funcion numpy funcionara como np\n",
        "\n",
        "**Arreglos de NumPy**\n",
        "\n",
        "Los arreglos de NumPy (Ndarray) son Objetos que parted de arreglos multidimensionales, los cuales consisten en el dato actual y su metadato con la descripcion del dato guardado, son indexados desde 0\n",
        "\n",
        "\n",
        "*   Cada elemento en el NdArray es un objeto de tipo dtype\n",
        "*   Cada item extraido del ndarray es representado por un objeto de pyton cocomo un array escalar\n",
        "\n"
      ],
      "metadata": {
        "id": "Kp42zeUsN2XU"
      }
    },
    {
      "cell_type": "markdown",
      "source": [
        "**Arrays**"
      ],
      "metadata": {
        "id": "9dE_zN_ITi1q"
      }
    },
    {
      "cell_type": "markdown",
      "source": [
        "Usando la funcion .array() Podemos crear arrays a partir de una serie de datos (encerrados  en [])\n",
        "\n",
        "En las presentes lineas estan los distintos usos de los arrays"
      ],
      "metadata": {
        "id": "T4uzkVmOT6Sa"
      }
    },
    {
      "cell_type": "code",
      "source": [
        "a = np.array([1,2,3]) # Array a partir de datos dados\n",
        "print(a)"
      ],
      "metadata": {
        "colab": {
          "base_uri": "https://localhost:8080/"
        },
        "id": "kc-qPISuN5Tq",
        "outputId": "7bb2a7d0-42d3-41c6-ab78-a25dea217f2d"
      },
      "execution_count": null,
      "outputs": [
        {
          "output_type": "stream",
          "name": "stdout",
          "text": [
            "[1 2 3]\n"
          ]
        }
      ]
    },
    {
      "cell_type": "code",
      "source": [
        "#Array Multidimencional\n",
        "#Cada elemento encerado en [ ], funge como fila\n",
        "b = np.array([[1,2], [3,4]])\n",
        "print(b)"
      ],
      "metadata": {
        "colab": {
          "base_uri": "https://localhost:8080/"
        },
        "id": "IhrcTuc6UMbb",
        "outputId": "a2842b1a-0f6f-4fb9-c343-eb932c1de902"
      },
      "execution_count": null,
      "outputs": [
        {
          "output_type": "stream",
          "name": "stdout",
          "text": [
            "[[1 2]\n",
            " [3 4]]\n"
          ]
        }
      ]
    },
    {
      "cell_type": "code",
      "source": [
        "# NdArray a partir de lista\n",
        "list1 = [1,2,3,4,5]\n",
        "arr = np.array(list1) # Podemos usar una lista como serie de datos\n",
        "print(arr)"
      ],
      "metadata": {
        "colab": {
          "base_uri": "https://localhost:8080/"
        },
        "id": "1IAGThIlUhUC",
        "outputId": "49ce3b80-6ace-4486-bd3c-212d2cef2ef5"
      },
      "execution_count": null,
      "outputs": [
        {
          "output_type": "stream",
          "name": "stdout",
          "text": [
            "[1 2 3 4 5]\n"
          ]
        }
      ]
    },
    {
      "cell_type": "code",
      "source": [
        "# Arrays a partir de Datos\n",
        "x = [1,2,3]\n",
        "# Util en conversion de datos de python a datos numpy\n",
        "c = np.asarray(x) #Usando Asarray() podemos convertir la lista\n",
        "print(c)"
      ],
      "metadata": {
        "colab": {
          "base_uri": "https://localhost:8080/"
        },
        "id": "dcpCUV11W6UM",
        "outputId": "5d1bfdfb-ea13-4312-8066-1e1e175c761f"
      },
      "execution_count": null,
      "outputs": [
        {
          "output_type": "stream",
          "name": "stdout",
          "text": [
            "[1 2 3]\n"
          ]
        }
      ]
    },
    {
      "cell_type": "markdown",
      "source": [
        ".sarray() permite tambien determinar el tipo de dato y su orden, tal que\n",
        "\n",
        "\n",
        "\n",
        "```\n",
        "# np.asarray(a, dtype = None, order = None)\n",
        "```\n",
        "\n",
        "\n"
      ],
      "metadata": {
        "id": "U8mOvUweXhWz"
      }
    },
    {
      "cell_type": "markdown",
      "source": [
        "Asi mismo podemos crear automaticamente un arreglo de manera automatica con los siguientes comandos"
      ],
      "metadata": {
        "id": "hZNUWZS3VPZq"
      }
    },
    {
      "cell_type": "code",
      "source": [
        "# Array en base a rango\n",
        "arr1 = np.arange(10, 100) # .arange() nos permite generar un arreglo desde un numero X hasta un numero Y\n",
        "print(arr1)\n"
      ],
      "metadata": {
        "colab": {
          "base_uri": "https://localhost:8080/"
        },
        "id": "WV4SmxgJUfYi",
        "outputId": "52607e80-904a-4404-90e6-1ce2895b76eb"
      },
      "execution_count": null,
      "outputs": [
        {
          "output_type": "stream",
          "name": "stdout",
          "text": [
            "[10 11 12 13 14 15 16 17 18 19 20 21 22 23 24 25 26 27 28 29 30 31 32 33\n",
            " 34 35 36 37 38 39 40 41 42 43 44 45 46 47 48 49 50 51 52 53 54 55 56 57\n",
            " 58 59 60 61 62 63 64 65 66 67 68 69 70 71 72 73 74 75 76 77 78 79 80 81\n",
            " 82 83 84 85 86 87 88 89 90 91 92 93 94 95 96 97 98 99]\n"
          ]
        }
      ]
    },
    {
      "cell_type": "code",
      "source": [
        "# Array de 0\n",
        "arr2 = np.zeros((5,5)) #Usando .zeros(). Podemos crear un array de 0 en n dimensiones\n",
        "print(arr2)"
      ],
      "metadata": {
        "colab": {
          "base_uri": "https://localhost:8080/"
        },
        "id": "X-lyFhNAUfVL",
        "outputId": "5642a4aa-624e-4b52-e731-4ced8d91f62d"
      },
      "execution_count": null,
      "outputs": [
        {
          "output_type": "stream",
          "name": "stdout",
          "text": [
            "[[0. 0. 0. 0. 0.]\n",
            " [0. 0. 0. 0. 0.]\n",
            " [0. 0. 0. 0. 0.]\n",
            " [0. 0. 0. 0. 0.]\n",
            " [0. 0. 0. 0. 0.]]\n"
          ]
        }
      ]
    },
    {
      "cell_type": "markdown",
      "source": [
        "Como tambien podemos reestructurar un array completo a nuestra manera"
      ],
      "metadata": {
        "id": "hLBG4gxWXydq"
      }
    },
    {
      "cell_type": "code",
      "source": [
        "arr3 = np.zeros(8) # Partiendo de un array cualquiera 1D\n",
        "arr3d = arr3.reshape((2,2,2)) # Podemos reestrucutarlo para que sea 2*2*2, En este caso tridimencional\n",
        "print(arr3)\n",
        "print(arr3d)"
      ],
      "metadata": {
        "colab": {
          "base_uri": "https://localhost:8080/"
        },
        "id": "SKdl8SfnYFJD",
        "outputId": "ab312f5a-0cc3-40ea-e804-eed0e88bb81b"
      },
      "execution_count": null,
      "outputs": [
        {
          "output_type": "stream",
          "name": "stdout",
          "text": [
            "[0. 0. 0. 0. 0. 0. 0. 0.]\n",
            "[[[0. 0.]\n",
            "  [0. 0.]]\n",
            "\n",
            " [[0. 0.]\n",
            "  [0. 0.]]]\n"
          ]
        }
      ]
    },
    {
      "cell_type": "code",
      "source": [
        "#Para devolver esto, o trasnformar una matriz a una sola dimension\n",
        "arr4 = arr3d.ravel() # .ravel aplana la funcion\n",
        "print(arr4)"
      ],
      "metadata": {
        "colab": {
          "base_uri": "https://localhost:8080/"
        },
        "id": "8GrXP1spajDD",
        "outputId": "f1572635-abd0-4b43-8859-b8081960d0fe"
      },
      "execution_count": null,
      "outputs": [
        {
          "output_type": "stream",
          "name": "stdout",
          "text": [
            "[0. 0. 0. 0. 0. 0. 0. 0.]\n"
          ]
        }
      ]
    },
    {
      "cell_type": "markdown",
      "source": [
        "**Vectores**"
      ],
      "metadata": {
        "id": "dSUHuvYyOAqq"
      }
    },
    {
      "cell_type": "code",
      "source": [
        "# Vector Lineal Espaciado\n",
        "# Podemos crear un Array espaciado con inicio, final y pasos\n",
        "vector = np.linspace(0, 20, 5) # Inicio, Final, Pasos\n",
        "print(vector)"
      ],
      "metadata": {
        "colab": {
          "base_uri": "https://localhost:8080/"
        },
        "id": "tOByuDBZVoBz",
        "outputId": "59160211-df0e-4361-f557-788666e8ff12"
      },
      "execution_count": null,
      "outputs": [
        {
          "output_type": "stream",
          "name": "stdout",
          "text": [
            "[ 0.  5. 10. 15. 20.]\n"
          ]
        }
      ]
    },
    {
      "cell_type": "markdown",
      "source": [
        "Asi mismo podemos Acceder arreglos (Slice y [:])\n"
      ],
      "metadata": {
        "id": "wvVwu5o2OqBC"
      }
    },
    {
      "cell_type": "code",
      "source": [
        "# El concepto de Slice en python aplica de la misma manera en numpy\n",
        "# Es construido dandole un rango de inicio y final, al igual que un rango\n",
        "arr6 = np.arange(20)\n",
        "arr_slice = slice(1, 10, 2) # Inicia, Para & Pasos\n",
        "element2 = arr6[6]\n",
        "print(arr6[arr_slice])"
      ],
      "metadata": {
        "colab": {
          "base_uri": "https://localhost:8080/"
        },
        "id": "3IH7BJLxOr3S",
        "outputId": "95a7bc55-b71c-4b24-87a1-3cf72f3429db"
      },
      "execution_count": null,
      "outputs": [
        {
          "output_type": "stream",
          "name": "stdout",
          "text": [
            "[1 3 5 7 9]\n"
          ]
        }
      ]
    },
    {
      "cell_type": "code",
      "source": [
        "arr7 = np.arange(20)\n",
        "print(arr7[2:]) #podemos usar las mismas especificaciones de las tuplas"
      ],
      "metadata": {
        "colab": {
          "base_uri": "https://localhost:8080/"
        },
        "id": "AiFkc3lucKlD",
        "outputId": "93b480fc-6243-425e-d449-5a72b9e81814"
      },
      "execution_count": null,
      "outputs": [
        {
          "output_type": "stream",
          "name": "stdout",
          "text": [
            "[ 2  3  4  5  6  7  8  9 10 11 12 13 14 15 16 17 18 19]\n"
          ]
        }
      ]
    },
    {
      "cell_type": "code",
      "source": [
        "# Podemos averiguar hasta un index determinado\n",
        "print(arr7[:15])\n"
      ],
      "metadata": {
        "colab": {
          "base_uri": "https://localhost:8080/"
        },
        "id": "MFzj-mDLcbFj",
        "outputId": "a100e431-bb6c-4309-a14c-1f451df21b79"
      },
      "execution_count": null,
      "outputs": [
        {
          "output_type": "stream",
          "name": "stdout",
          "text": [
            "[ 0  1  2  3  4  5  6  7  8  9 10 11 12 13 14]\n"
          ]
        }
      ]
    },
    {
      "cell_type": "markdown",
      "source": [
        "Asi mismo  podemos indexar numeros\n",
        "Su funcion es similar a la sintaxis normal de python\n"
      ],
      "metadata": {
        "id": "CqLx0VXEbyGM"
      }
    },
    {
      "cell_type": "code",
      "source": [
        "arr5 = np.arange(2, 20)\n",
        "element = arr5[6]\n",
        "\n",
        "print (arr5)\n",
        "print(element)"
      ],
      "metadata": {
        "colab": {
          "base_uri": "https://localhost:8080/"
        },
        "id": "H6odQdAKb10T",
        "outputId": "d0b12bde-b0dc-4b3d-a6e5-fe7cf8fc65c6"
      },
      "execution_count": null,
      "outputs": [
        {
          "output_type": "stream",
          "name": "stdout",
          "text": [
            "[ 2  3  4  5  6  7  8  9 10 11 12 13 14 15 16 17 18 19]\n",
            "8\n"
          ]
        }
      ]
    },
    {
      "cell_type": "code",
      "source": [
        "# Podemos extraer filas y columnas en especifico usando Slicing\n",
        "d = np.array([[1,2,3], [3,4,5], [4,5,6]])\n",
        "print(d)\n",
        "\n",
        "print(d[0:2, 0:2]) # Cortando las primeras dos filas y las primeras dos columnas"
      ],
      "metadata": {
        "colab": {
          "base_uri": "https://localhost:8080/"
        },
        "id": "bTlQy2GgcyEc",
        "outputId": "9164de1f-545f-454e-e4fd-249dee711855"
      },
      "execution_count": null,
      "outputs": [
        {
          "output_type": "stream",
          "name": "stdout",
          "text": [
            "[[1 2 3]\n",
            " [3 4 5]\n",
            " [4 5 6]]\n",
            "[[1 2]\n",
            " [3 4]]\n"
          ]
        }
      ]
    },
    {
      "cell_type": "markdown",
      "source": [
        "**Atributos de los Array en NumPy**"
      ],
      "metadata": {
        "id": "-ze1QBuvduyk"
      }
    },
    {
      "cell_type": "code",
      "source": [
        "print(d.shape) # Devuelve la tupla con las dimensiones del arreglo\n",
        "print(d.ndim) # Devuelve el numero de dimensiones del arreglo\n",
        "print(a.itemsize) # Devuelve la longitud de cada arreglo en Bytes"
      ],
      "metadata": {
        "id": "y97U-LbcdYSU"
      },
      "execution_count": null,
      "outputs": []
    },
    {
      "cell_type": "code",
      "source": [
        "y = np.empty([3,2], dtype = int) # Creacion de un array sin inicializar con sus dimenciones y tamaño\n",
        "print(y)"
      ],
      "metadata": {
        "colab": {
          "base_uri": "https://localhost:8080/"
        },
        "id": "zpgzY-cydzbL",
        "outputId": "ed0c166e-7ef7-4ab1-9364-a84a7f4a529b"
      },
      "execution_count": null,
      "outputs": [
        {
          "output_type": "stream",
          "name": "stdout",
          "text": [
            "[[      596803866               0]\n",
            " [139077091389632 139077720269488]\n",
            " [       11653248        11694976]]\n"
          ]
        }
      ]
    },
    {
      "cell_type": "markdown",
      "source": [
        "Los valores obtenidos son valores basura presentes en la direccion asignada automaticamente por .empty()\n",
        "\n",
        "Esto es util para velocidad, puesto que la memoria de las direcciones de memoria usadas no son limpiadas"
      ],
      "metadata": {
        "id": "sh-kEX0-d46L"
      }
    },
    {
      "cell_type": "markdown",
      "source": [
        "**Pandas**\n",
        "\n",
        "Libreria de Codigo abierto que brinda herramientas para estructuras de datos y analizis de datos. Su nombre deriva de \"Panel Data\", Funciona para:\n",
        "\n",
        "*  Tabular datos con columnas de tipo hetereogeneas\n",
        "*  Series de datos Ordenados y desordenados\n",
        "* Matrizes arbitrarias de datos con etiquetas de filas y columnas"
      ],
      "metadata": {
        "id": "AiazkDiYfR6U"
      }
    }
  ]
}