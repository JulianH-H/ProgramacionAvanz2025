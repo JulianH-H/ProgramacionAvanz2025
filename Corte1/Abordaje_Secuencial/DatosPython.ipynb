{
  "nbformat": 4,
  "nbformat_minor": 0,
  "metadata": {
    "colab": {
      "provenance": [],
      "include_colab_link": true
    },
    "kernelspec": {
      "name": "python3",
      "display_name": "Python 3"
    },
    "language_info": {
      "name": "python"
    }
  },
  "cells": [
    {
      "cell_type": "markdown",
      "metadata": {
        "id": "view-in-github",
        "colab_type": "text"
      },
      "source": [
        "<a href=\"https://colab.research.google.com/github/JulianH-H/ProgramacionAvanz2025/blob/main/Corte1/Abordaje_Secuencial/DatosPython.ipynb\" target=\"_parent\"><img src=\"https://colab.research.google.com/assets/colab-badge.svg\" alt=\"Open In Colab\"/></a>"
      ]
    },
    {
      "cell_type": "markdown",
      "source": [
        "# **NumPy, Panda y MatPlotlib**\n",
        "\n",
        "**NumPy**\n",
        "\n",
        "  Libreria externa para Python que permite procesar:\n",
        "\n",
        "*   Arrays multidimensionales\n",
        "*   Operaciones Elemento a Elemento\n",
        "*   Metodos para el procesamiento de arrays\n",
        "*   Operaciones matematicas como logicas, Transformaciones de Fourier, manipulacion de formas, algebra lineal y RNG\n",
        "\n",
        "Para utilizarla debemos importar la libreria, para ello usamos el siguiente comando:"
      ],
      "metadata": {
        "id": "D7osWG51QYNi"
      }
    },
    {
      "cell_type": "code",
      "execution_count": null,
      "metadata": {
        "id": "qaU7dQIsNovH"
      },
      "outputs": [],
      "source": [
        "import numpy as np"
      ]
    },
    {
      "cell_type": "markdown",
      "source": [
        "En caso tal de reportar error debemos instalarla en nuestros sistemas mediante pip3, de aqui en adelante la funcion numpy funcionara como np\n",
        "\n",
        "**Arreglos de NumPy**\n",
        "\n",
        "Los arreglos de NumPy (Ndarray) son Objetos que parted de arreglos multidimensionales, los cuales consisten en el dato actual y su metadato con la descripcion del dato guardado, son indexados desde 0\n",
        "\n",
        "\n",
        "*   Cada elemento en el NdArray es un objeto de tipo dtype\n",
        "*   Cada item extraido del ndarray es representado por un objeto de pyton cocomo un array escalar\n",
        "\n"
      ],
      "metadata": {
        "id": "Kp42zeUsN2XU"
      }
    },
    {
      "cell_type": "markdown",
      "source": [
        "**Arrays**"
      ],
      "metadata": {
        "id": "9dE_zN_ITi1q"
      }
    },
    {
      "cell_type": "markdown",
      "source": [
        "Usando la funcion .array() Podemos crear arrays a partir de una serie de datos (encerrados  en [])\n",
        "\n",
        "En las presentes lineas estan los distintos usos de los arrays"
      ],
      "metadata": {
        "id": "T4uzkVmOT6Sa"
      }
    },
    {
      "cell_type": "code",
      "source": [
        "a = np.array([1,2,3]) # Array a partir de datos dados\n",
        "print(a)"
      ],
      "metadata": {
        "colab": {
          "base_uri": "https://localhost:8080/"
        },
        "id": "kc-qPISuN5Tq",
        "outputId": "7bb2a7d0-42d3-41c6-ab78-a25dea217f2d"
      },
      "execution_count": null,
      "outputs": [
        {
          "output_type": "stream",
          "name": "stdout",
          "text": [
            "[1 2 3]\n"
          ]
        }
      ]
    },
    {
      "cell_type": "code",
      "source": [
        "#Array Multidimencional\n",
        "#Cada elemento encerado en [ ], funge como fila\n",
        "b = np.array([[1,2], [3,4]])\n",
        "print(b)"
      ],
      "metadata": {
        "colab": {
          "base_uri": "https://localhost:8080/"
        },
        "id": "IhrcTuc6UMbb",
        "outputId": "a2842b1a-0f6f-4fb9-c343-eb932c1de902"
      },
      "execution_count": null,
      "outputs": [
        {
          "output_type": "stream",
          "name": "stdout",
          "text": [
            "[[1 2]\n",
            " [3 4]]\n"
          ]
        }
      ]
    },
    {
      "cell_type": "code",
      "source": [
        "# NdArray a partir de lista\n",
        "list1 = [1,2,3,4,5]\n",
        "arr = np.array(list1) # Podemos usar una lista como serie de datos\n",
        "print(arr)"
      ],
      "metadata": {
        "colab": {
          "base_uri": "https://localhost:8080/"
        },
        "id": "1IAGThIlUhUC",
        "outputId": "49ce3b80-6ace-4486-bd3c-212d2cef2ef5"
      },
      "execution_count": null,
      "outputs": [
        {
          "output_type": "stream",
          "name": "stdout",
          "text": [
            "[1 2 3 4 5]\n"
          ]
        }
      ]
    },
    {
      "cell_type": "code",
      "source": [
        "# Arrays a partir de Datos\n",
        "x = [1,2,3]\n",
        "# Util en conversion de datos de python a datos numpy\n",
        "c = np.asarray(x) #Usando Asarray() podemos convertir la lista\n",
        "print(c)"
      ],
      "metadata": {
        "colab": {
          "base_uri": "https://localhost:8080/"
        },
        "id": "dcpCUV11W6UM",
        "outputId": "5d1bfdfb-ea13-4312-8066-1e1e175c761f"
      },
      "execution_count": null,
      "outputs": [
        {
          "output_type": "stream",
          "name": "stdout",
          "text": [
            "[1 2 3]\n"
          ]
        }
      ]
    },
    {
      "cell_type": "markdown",
      "source": [
        ".sarray() permite tambien determinar el tipo de dato y su orden, tal que\n",
        "\n",
        "\n",
        "\n",
        "```\n",
        "# np.asarray(a, dtype = None, order = None)\n",
        "```\n",
        "\n",
        "\n"
      ],
      "metadata": {
        "id": "U8mOvUweXhWz"
      }
    },
    {
      "cell_type": "markdown",
      "source": [
        "Asi mismo podemos crear automaticamente un arreglo de manera automatica con los siguientes comandos"
      ],
      "metadata": {
        "id": "hZNUWZS3VPZq"
      }
    },
    {
      "cell_type": "code",
      "source": [
        "# Array en base a rango\n",
        "arr1 = np.arange(10, 100) # .arange() nos permite generar un arreglo desde un numero X hasta un numero Y\n",
        "print(arr1)\n"
      ],
      "metadata": {
        "colab": {
          "base_uri": "https://localhost:8080/"
        },
        "id": "WV4SmxgJUfYi",
        "outputId": "52607e80-904a-4404-90e6-1ce2895b76eb"
      },
      "execution_count": null,
      "outputs": [
        {
          "output_type": "stream",
          "name": "stdout",
          "text": [
            "[10 11 12 13 14 15 16 17 18 19 20 21 22 23 24 25 26 27 28 29 30 31 32 33\n",
            " 34 35 36 37 38 39 40 41 42 43 44 45 46 47 48 49 50 51 52 53 54 55 56 57\n",
            " 58 59 60 61 62 63 64 65 66 67 68 69 70 71 72 73 74 75 76 77 78 79 80 81\n",
            " 82 83 84 85 86 87 88 89 90 91 92 93 94 95 96 97 98 99]\n"
          ]
        }
      ]
    },
    {
      "cell_type": "code",
      "source": [
        "# Array de 0\n",
        "arr2 = np.zeros((5,5)) #Usando .zeros(). Podemos crear un array de 0 en n dimensiones\n",
        "print(arr2)"
      ],
      "metadata": {
        "colab": {
          "base_uri": "https://localhost:8080/"
        },
        "id": "X-lyFhNAUfVL",
        "outputId": "5642a4aa-624e-4b52-e731-4ced8d91f62d"
      },
      "execution_count": null,
      "outputs": [
        {
          "output_type": "stream",
          "name": "stdout",
          "text": [
            "[[0. 0. 0. 0. 0.]\n",
            " [0. 0. 0. 0. 0.]\n",
            " [0. 0. 0. 0. 0.]\n",
            " [0. 0. 0. 0. 0.]\n",
            " [0. 0. 0. 0. 0.]]\n"
          ]
        }
      ]
    },
    {
      "cell_type": "markdown",
      "source": [
        "Como tambien podemos reestructurar un array completo a nuestra manera"
      ],
      "metadata": {
        "id": "hLBG4gxWXydq"
      }
    },
    {
      "cell_type": "code",
      "source": [
        "arr3 = np.zeros(8) # Partiendo de un array cualquiera 1D\n",
        "arr3d = arr3.reshape((2,2,2)) # Podemos reestrucutarlo para que sea 2*2*2, En este caso tridimencional\n",
        "print(arr3)\n",
        "print(arr3d)"
      ],
      "metadata": {
        "colab": {
          "base_uri": "https://localhost:8080/"
        },
        "id": "SKdl8SfnYFJD",
        "outputId": "ab312f5a-0cc3-40ea-e804-eed0e88bb81b"
      },
      "execution_count": null,
      "outputs": [
        {
          "output_type": "stream",
          "name": "stdout",
          "text": [
            "[0. 0. 0. 0. 0. 0. 0. 0.]\n",
            "[[[0. 0.]\n",
            "  [0. 0.]]\n",
            "\n",
            " [[0. 0.]\n",
            "  [0. 0.]]]\n"
          ]
        }
      ]
    },
    {
      "cell_type": "code",
      "source": [
        "#Para devolver esto, o trasnformar una matriz a una sola dimension\n",
        "arr4 = arr3d.ravel() # .ravel aplana la funcion\n",
        "print(arr4)"
      ],
      "metadata": {
        "colab": {
          "base_uri": "https://localhost:8080/"
        },
        "id": "8GrXP1spajDD",
        "outputId": "f1572635-abd0-4b43-8859-b8081960d0fe"
      },
      "execution_count": null,
      "outputs": [
        {
          "output_type": "stream",
          "name": "stdout",
          "text": [
            "[0. 0. 0. 0. 0. 0. 0. 0.]\n"
          ]
        }
      ]
    },
    {
      "cell_type": "markdown",
      "source": [
        "**Vectores**"
      ],
      "metadata": {
        "id": "dSUHuvYyOAqq"
      }
    },
    {
      "cell_type": "code",
      "source": [
        "# Vector Lineal Espaciado\n",
        "# Podemos crear un Array espaciado con inicio, final y pasos\n",
        "vector = np.linspace(0, 20, 5) # Inicio, Final, Pasos\n",
        "print(vector)"
      ],
      "metadata": {
        "colab": {
          "base_uri": "https://localhost:8080/"
        },
        "id": "tOByuDBZVoBz",
        "outputId": "59160211-df0e-4361-f557-788666e8ff12"
      },
      "execution_count": null,
      "outputs": [
        {
          "output_type": "stream",
          "name": "stdout",
          "text": [
            "[ 0.  5. 10. 15. 20.]\n"
          ]
        }
      ]
    },
    {
      "cell_type": "markdown",
      "source": [
        "Asi mismo podemos Acceder arreglos (Slice y [:])\n"
      ],
      "metadata": {
        "id": "wvVwu5o2OqBC"
      }
    },
    {
      "cell_type": "code",
      "source": [
        "# El concepto de Slice en python aplica de la misma manera en numpy\n",
        "# Es construido dandole un rango de inicio y final, al igual que un rango\n",
        "arr6 = np.arange(20)\n",
        "arr_slice = slice(1, 10, 2) # Inicia, Para & Pasos\n",
        "element2 = arr6[6]\n",
        "print(arr6[arr_slice])"
      ],
      "metadata": {
        "colab": {
          "base_uri": "https://localhost:8080/"
        },
        "id": "3IH7BJLxOr3S",
        "outputId": "95a7bc55-b71c-4b24-87a1-3cf72f3429db"
      },
      "execution_count": null,
      "outputs": [
        {
          "output_type": "stream",
          "name": "stdout",
          "text": [
            "[1 3 5 7 9]\n"
          ]
        }
      ]
    },
    {
      "cell_type": "code",
      "source": [
        "arr7 = np.arange(20)\n",
        "print(arr7[2:]) #podemos usar las mismas especificaciones de las tuplas"
      ],
      "metadata": {
        "colab": {
          "base_uri": "https://localhost:8080/"
        },
        "id": "AiFkc3lucKlD",
        "outputId": "93b480fc-6243-425e-d449-5a72b9e81814"
      },
      "execution_count": null,
      "outputs": [
        {
          "output_type": "stream",
          "name": "stdout",
          "text": [
            "[ 2  3  4  5  6  7  8  9 10 11 12 13 14 15 16 17 18 19]\n"
          ]
        }
      ]
    },
    {
      "cell_type": "code",
      "source": [
        "# Podemos averiguar hasta un index determinado\n",
        "print(arr7[:15])\n"
      ],
      "metadata": {
        "colab": {
          "base_uri": "https://localhost:8080/"
        },
        "id": "MFzj-mDLcbFj",
        "outputId": "a100e431-bb6c-4309-a14c-1f451df21b79"
      },
      "execution_count": null,
      "outputs": [
        {
          "output_type": "stream",
          "name": "stdout",
          "text": [
            "[ 0  1  2  3  4  5  6  7  8  9 10 11 12 13 14]\n"
          ]
        }
      ]
    },
    {
      "cell_type": "markdown",
      "source": [
        "Asi mismo  podemos indexar numeros\n",
        "Su funcion es similar a la sintaxis normal de python\n"
      ],
      "metadata": {
        "id": "CqLx0VXEbyGM"
      }
    },
    {
      "cell_type": "code",
      "source": [
        "arr5 = np.arange(2, 20)\n",
        "element = arr5[6]\n",
        "\n",
        "print (arr5)\n",
        "print(element)"
      ],
      "metadata": {
        "colab": {
          "base_uri": "https://localhost:8080/"
        },
        "id": "H6odQdAKb10T",
        "outputId": "d0b12bde-b0dc-4b3d-a6e5-fe7cf8fc65c6"
      },
      "execution_count": null,
      "outputs": [
        {
          "output_type": "stream",
          "name": "stdout",
          "text": [
            "[ 2  3  4  5  6  7  8  9 10 11 12 13 14 15 16 17 18 19]\n",
            "8\n"
          ]
        }
      ]
    },
    {
      "cell_type": "code",
      "source": [
        "# Podemos extraer filas y columnas en especifico usando Slicing\n",
        "d = np.array([[1,2,3], [3,4,5], [4,5,6]])\n",
        "print(d)\n",
        "\n",
        "print(d[0:2, 0:2]) # Cortando las primeras dos filas y las primeras dos columnas"
      ],
      "metadata": {
        "colab": {
          "base_uri": "https://localhost:8080/"
        },
        "id": "bTlQy2GgcyEc",
        "outputId": "9164de1f-545f-454e-e4fd-249dee711855"
      },
      "execution_count": null,
      "outputs": [
        {
          "output_type": "stream",
          "name": "stdout",
          "text": [
            "[[1 2 3]\n",
            " [3 4 5]\n",
            " [4 5 6]]\n",
            "[[1 2]\n",
            " [3 4]]\n"
          ]
        }
      ]
    },
    {
      "cell_type": "markdown",
      "source": [
        "**Atributos de los Array en NumPy**"
      ],
      "metadata": {
        "id": "-ze1QBuvduyk"
      }
    },
    {
      "cell_type": "code",
      "source": [
        "print(d.shape) # Devuelve la tupla con las dimensiones del arreglo\n",
        "print(d.ndim) # Devuelve el numero de dimensiones del arreglo\n",
        "print(a.itemsize) # Devuelve la longitud de cada arreglo en Bytes"
      ],
      "metadata": {
        "id": "y97U-LbcdYSU"
      },
      "execution_count": null,
      "outputs": []
    },
    {
      "cell_type": "code",
      "source": [
        "y = np.empty([3,2], dtype = int) # Creacion de un array sin inicializar con sus dimenciones y tamaño\n",
        "print(y)"
      ],
      "metadata": {
        "colab": {
          "base_uri": "https://localhost:8080/"
        },
        "id": "zpgzY-cydzbL",
        "outputId": "ed0c166e-7ef7-4ab1-9364-a84a7f4a529b"
      },
      "execution_count": null,
      "outputs": [
        {
          "output_type": "stream",
          "name": "stdout",
          "text": [
            "[[      596803866               0]\n",
            " [139077091389632 139077720269488]\n",
            " [       11653248        11694976]]\n"
          ]
        }
      ]
    },
    {
      "cell_type": "markdown",
      "source": [
        "Los valores obtenidos son valores basura presentes en la direccion asignada automaticamente por .empty()\n",
        "\n",
        "Esto es util para velocidad, puesto que la memoria de las direcciones de memoria usadas no son limpiadas"
      ],
      "metadata": {
        "id": "sh-kEX0-d46L"
      }
    },
    {
      "cell_type": "markdown",
      "source": [
        "**Pandas**\n",
        "\n",
        "Libreria de Codigo abierto que brinda herramientas para estructuras de datos y analizis de datos. Su nombre deriva de \"Panel Data\", Funciona para:\n",
        "\n",
        "*  Tabular datos con columnas de tipo hetereogeneas\n",
        "*  Series de datos Ordenados y desordenados\n",
        "* Matrizes arbitrarias de datos con etiquetas de filas y columnas\n",
        "* Cualquier forma de observacion y datos estadiscos en sets\n",
        "\n",
        "Provee tambien tres tipos de estructuras de datos, de las cuales estan construidas sobre los arreglos de NumPy, todas las estructuras de datos son mutables\n",
        "\n",
        "\n",
        "\n",
        "1.   Series (1D) - Etiquetadas, Arreglos homogeneos de valor inmutable.\n",
        "2.   DataFrames(2D) -- Etiquetados, Estructuras de datos escritas heterogéneamente, de tamaño mutables.\n",
        "3.  Paneles(3D) - Etiquetados. Arreglos de tamaño mutable.\n",
        "\n",
        "\n",
        "Para poder utilizar Pandas usamos el siguiente comando:\n",
        "\n"
      ],
      "metadata": {
        "id": "AiazkDiYfR6U"
      }
    },
    {
      "cell_type": "code",
      "source": [
        "import pandas as pd"
      ],
      "metadata": {
        "id": "1ba3ZIZhcIi9"
      },
      "execution_count": null,
      "outputs": []
    },
    {
      "cell_type": "markdown",
      "source": [
        "**Series**\n",
        "\n",
        "* Una serie es un array unidimencional que almacena datos homogeneos, por ejemplo, un dato de un solo tipo\n",
        "\n",
        "* Todos los elementos  de una serie son mutables en valores pero inmutables en tamaño\n",
        "\n",
        "* Los indices deben ser unicos, Hashable y debe tenre la misma longitud de datos, si ningun indice se presenta usara por defecto np.arrange(n)\n",
        "\n",
        "* Los tipos de datos deben ser mencionado, de no ser mencionados se inferiran de manera automatica.\n",
        "\n",
        "**Creando una Serie**\n"
      ],
      "metadata": {
        "id": "ykVr_39ScLPU"
      }
    },
    {
      "cell_type": "code",
      "source": [
        "# Creating an empty Series\n",
        "series = pd.Series() # The Series() function creates a new Series\n",
        "print(series)"
      ],
      "metadata": {
        "id": "5bqi1QpEdkIU"
      },
      "execution_count": null,
      "outputs": []
    },
    {
      "cell_type": "code",
      "source": [
        "# Creating a series from an ndarray\n",
        "# Note that indexes are a assigned automatically if not specifies\n",
        "arr = np.array([10,20,30,40,50])\n",
        "series1 = pd.Series(arr)\n",
        "print(series1)"
      ],
      "metadata": {
        "id": "PWQBVTT1eMXa"
      },
      "execution_count": null,
      "outputs": []
    },
    {
      "cell_type": "code",
      "source": [
        "# Creating a series from a Python dict\n",
        "# Note that the keys of the dictionary are used to assign indexes during conversion\n",
        "data = {'a':10, 'b':20, 'c':30}\n",
        "series2 = pd.Series(data)\n",
        "print(series2)"
      ],
      "metadata": {
        "id": "aRJ-WNcBeQlb"
      },
      "execution_count": null,
      "outputs": []
    },
    {
      "cell_type": "code",
      "source": [
        "# Retrieving a part of the series using slicing\n",
        "print(series1[1:4])"
      ],
      "metadata": {
        "id": "SDVq-gw4eSnc"
      },
      "execution_count": null,
      "outputs": []
    },
    {
      "cell_type": "markdown",
      "source": [
        "**DataFrames**\n",
        "\n",
        "* Un DataDrame es una estructura de datos 2D donde los datos son alineados en una manera tabular, consistiendo en filas y columnas\n",
        "* Un DataFrame puede ser usado con el siguiente constructor\n",
        "\n",
        "```\n",
        "pd.DataFrane(data, indice, dtype, copy)\n",
        "```\n",
        "* Pueden ser de distintos tipos de datos, como ndarrays, listas, constantes, series, diccionarios, etc.\n",
        "\n",
        "* El indice de la fila y columna del data frame tendra el defecto np.arrange(n) si ningun indice es adjuntado\n",
        "\n",
        "* Hay un Tipo de dato para cada columna\n",
        "\n",
        "**Creando un DataFrame**\n"
      ],
      "metadata": {
        "id": "DtkdGHZFeTgY"
      }
    },
    {
      "cell_type": "code",
      "source": [
        "# Converting a list into a DataFrame\n",
        "list1 = [10, 20, 30, 40]\n",
        "table = pd.DataFrame(list1)\n",
        "print(table)"
      ],
      "metadata": {
        "id": "XM4HE7i-e99K"
      },
      "execution_count": null,
      "outputs": []
    },
    {
      "cell_type": "code",
      "source": [
        "# Creating a DataFrame from a list of dictionaries\n",
        "data = [{'a':1, 'b':2}, {'a':2, 'b':4, 'c':8}]\n",
        "table1 = pd.DataFrame(data)\n",
        "print(table1)\n",
        "# NaN (not a number) is stored in areas where no data is provided"
      ],
      "metadata": {
        "id": "UuglbDzjfgG0"
      },
      "execution_count": null,
      "outputs": []
    },
    {
      "cell_type": "code",
      "source": [
        "# Creating a DataFrame from a list of dictionaries and accompaying row indices\n",
        "table2 = pd.DataFrame(data, index = ['first', 'second'])\n",
        "# Dict keys become column lables\n",
        "print(table2)"
      ],
      "metadata": {
        "id": "RqTUPck5fijz"
      },
      "execution_count": null,
      "outputs": []
    },
    {
      "cell_type": "code",
      "source": [
        "# Converting a dictionary of series into a DataFrame\n",
        "data1 = {'one':pd.Series([1,2,3], index = ['a', 'b', 'c']),\n",
        "        'two':pd.Series([1,2,3,4], index = ['a', 'b', 'c', 'd'])}\n",
        "table3 = pd.DataFrame(data1)\n",
        "print(table3)\n",
        "# the resultant index is the union of all the series indexes passed"
      ],
      "metadata": {
        "id": "Ex3YqJ9IfkYE"
      },
      "execution_count": null,
      "outputs": []
    },
    {
      "cell_type": "markdown",
      "source": [
        "**Adicion y Eliminacion de Columnas**\n"
      ],
      "metadata": {
        "id": "ekXjut0OfrE8"
      }
    },
    {
      "cell_type": "code",
      "source": [
        "# A new column can be added to a DataFrame when the data is passed as a Series\n",
        "table3['three'] = pd.Series([10,20,30], index = ['a', 'b', 'c'])\n",
        "print(table3)"
      ],
      "metadata": {
        "id": "CRyYgevLfvpV"
      },
      "execution_count": null,
      "outputs": []
    },
    {
      "cell_type": "code",
      "source": [
        "# DataFrame columns can be deleted using the del() function\n",
        "del table3['one']\n",
        "print(table3)"
      ],
      "metadata": {
        "id": "cwkQcXaSf0TE"
      },
      "execution_count": null,
      "outputs": []
    },
    {
      "cell_type": "code",
      "source": [
        "# DataFrame columns can be deleted using the pop() function\n",
        "table3.pop('two')\n",
        "print(table3)"
      ],
      "metadata": {
        "id": "wgL-PUFIf2Db"
      },
      "execution_count": null,
      "outputs": []
    },
    {
      "cell_type": "markdown",
      "source": [
        "**Adicion y Eliminacion de Filas**"
      ],
      "metadata": {
        "id": "e8PU6XQlf-LM"
      }
    },
    {
      "cell_type": "code",
      "source": [
        "# DataFrame rows can be selected by passing the row lable to the loc() function\n",
        "print(table3.loc['c'])"
      ],
      "metadata": {
        "id": "xvGFvGYggbWG"
      },
      "execution_count": null,
      "outputs": []
    },
    {
      "cell_type": "code",
      "source": [
        "# Row selection can also be done using the row index\n",
        "print(table3.iloc[2])"
      ],
      "metadata": {
        "id": "FRdgJfeXgd5W"
      },
      "execution_count": null,
      "outputs": []
    },
    {
      "cell_type": "code",
      "source": [
        "# The append() function can be used to add more rows to the DataFrame\n",
        "data2 = {'one':pd.Series([1,2,3], index = ['a', 'b', 'c']),\n",
        "        'two':pd.Series([1,2,3,4], index = ['a', 'b', 'c', 'd'])}\n",
        "table5 = pd.DataFrame(data2)\n",
        "table5['three'] = pd.Series([10,20,30], index = ['a', 'b', 'c'])\n",
        "row = pd.DataFrame([[11,13],[17,19]], columns = ['two', 'three'])\n",
        "table6 = table5.append(row)\n",
        "print(table6)"
      ],
      "metadata": {
        "id": "S3DopD2GggAU"
      },
      "execution_count": null,
      "outputs": []
    },
    {
      "cell_type": "code",
      "source": [
        "# The drop() function can be used to drop rows whose labels are provided\n",
        "table7 = table6.drop('a')\n",
        "print(table7)"
      ],
      "metadata": {
        "id": "YZj5ZnNMgjc8"
      },
      "execution_count": null,
      "outputs": []
    },
    {
      "cell_type": "markdown",
      "source": [
        "**Importando y Exportando Datos**"
      ],
      "metadata": {
        "id": "HCkdRh83gsTU"
      }
    },
    {
      "cell_type": "code",
      "source": [
        "# Data can be loaded into DataFrames from input data stored in the CSV format using the read_csv() function\n",
        "table_csv = pd.read_csv('../input/Cars2015.csv')"
      ],
      "metadata": {
        "id": "Pe5vI2C2gwS9"
      },
      "execution_count": null,
      "outputs": []
    },
    {
      "cell_type": "code",
      "source": [
        "# Data present in DataFrames can be written to a CSV file using the to_csv() function\n",
        "# If the specified path doesn't exist, a file of the same name is automatically created\n",
        "table_csv.to_csv('newcars2015.csv')"
      ],
      "metadata": {
        "id": "Q-GycFcYgyNH"
      },
      "execution_count": null,
      "outputs": []
    },
    {
      "cell_type": "code",
      "source": [
        "# Data can be loaded into DataFrames from input data stored in the Excelsheet format using read_excel()\n",
        "sheet = pd.read_excel('cars2015.xlsx')"
      ],
      "metadata": {
        "id": "noxM90FJg0TD"
      },
      "execution_count": null,
      "outputs": []
    },
    {
      "cell_type": "code",
      "source": [
        "# Data present in DataFrames can be written to a spreadsheet file using to_excel()\n",
        "#If the specified path doesn't exist, a file of the same name is automatically created\n",
        "sheet.to_excel('newcars2015.xlsx')"
      ],
      "metadata": {
        "id": "3x5nyGRog4Iz"
      },
      "execution_count": null,
      "outputs": []
    },
    {
      "cell_type": "markdown",
      "source": [
        "**Matplotlib**\n",
        "\n",
        "* MatPlotLib es una libreria de Python que esta diseñada especificamente para el desarollo de graficas, tablas, etc. Para poder mostrar datos de manera interactiva\n",
        "\n",
        "* Inspirada en MATLAB, logrando reproducir mayoria de sus funciones\n",
        "\n"
      ],
      "metadata": {
        "id": "isba5_WYg6cj"
      }
    },
    {
      "cell_type": "code",
      "source": [
        "# Import Matplotlib submodule for plotting\n",
        "import matplotlib.pyplot as plt"
      ],
      "metadata": {
        "id": "JGH3i2shhnu8"
      },
      "execution_count": null,
      "outputs": []
    },
    {
      "cell_type": "markdown",
      "source": [
        "**Plotting en MatPlotLib**"
      ],
      "metadata": {
        "id": "HMBma9u9hxy3"
      }
    },
    {
      "cell_type": "code",
      "source": [
        "plt.plot([1,2,3,4]) # List of vertical co-ordinates of the points plotted\n",
        "plt.show() # Displays plot\n",
        "# Implicit X-axis values from 0 to (N-1) where N is the length of the list"
      ],
      "metadata": {
        "id": "zy5Bo3n6h4Me"
      },
      "execution_count": null,
      "outputs": []
    },
    {
      "cell_type": "code",
      "source": [
        "# We can specify the values for both axes\n",
        "x = range(5) # Sequence of values for the x-axis\n",
        "# X-axis values specified - [0,1,2,3,4]\n",
        "plt.plot(x, [x1**2 for x1 in x]) # vertical co-ordinates of the points plotted: y = x^2\n",
        "plt.show()"
      ],
      "metadata": {
        "id": "Tz5Nn3Y-h41b"
      },
      "execution_count": null,
      "outputs": []
    },
    {
      "cell_type": "code",
      "source": [
        "# We can use NumPy to specify the values for both axes with greater precision\n",
        "x = np.arange(0, 5, 0.01)\n",
        "plt.plot(x, [x1**2 for x1 in x]) # vertical co-ordinates of the points plotted: y = x^2\n",
        "plt.show()"
      ],
      "metadata": {
        "id": "yTu9FloCh7VD"
      },
      "execution_count": null,
      "outputs": []
    },
    {
      "cell_type": "code",
      "source": [
        "# Multiple functions can be drawn on the same plot\n",
        "x = range(5)\n",
        "plt.plot(x, [x1 for x1 in x])\n",
        "plt.plot(x, [x1*x1 for x1 in x])\n",
        "plt.plot(x, [x1*x1*x1 for x1 in x])\n",
        "plt.show()"
      ],
      "metadata": {
        "id": "5DxDKPg8h8t6"
      },
      "execution_count": null,
      "outputs": []
    },
    {
      "cell_type": "code",
      "source": [
        "# Different colours are used for different lines\n",
        "x = range(5)\n",
        "plt.plot(x, [x1 for x1 in x],\n",
        "         x, [x1*x1 for x1 in x],\n",
        "         x, [x1*x1*x1 for x1 in x])\n",
        "plt.show()"
      ],
      "metadata": {
        "id": "gctD0Wduh-Ji"
      },
      "execution_count": null,
      "outputs": []
    },
    {
      "cell_type": "markdown",
      "source": [
        "**Cuadriculas**"
      ],
      "metadata": {
        "id": "x7VlOnouiAQU"
      }
    },
    {
      "cell_type": "code",
      "source": [
        "# The grid() function adds a grid to the plot\n",
        "# grid() takes a single Boolean parameter\n",
        "# grid appears in the background of the plot\n",
        "x = range(5)\n",
        "plt.plot(x, [x1 for x1 in x],\n",
        "         x, [x1*2 for x1 in x],\n",
        "         x, [x1*4 for x1 in x])\n",
        "plt.grid(True)\n",
        "plt.show()"
      ],
      "metadata": {
        "id": "vUwIIaAdiIfz"
      },
      "execution_count": null,
      "outputs": []
    },
    {
      "cell_type": "code",
      "source": [
        "# The scale of the plot can be set using axis()\n",
        "x = range(5)\n",
        "plt.plot(x, [x1 for x1 in x],\n",
        "         x, [x1*2 for x1 in x],\n",
        "         x, [x1*4 for x1 in x])\n",
        "plt.grid(True)\n",
        "plt.axis([-1, 5, -1, 10]) # Sets new axes limits\n",
        "plt.show()"
      ],
      "metadata": {
        "id": "voMuPEg1iJEu"
      },
      "execution_count": null,
      "outputs": []
    },
    {
      "cell_type": "code",
      "source": [
        "# The scale of the plot can also be set using xlim() and ylim()\n",
        "x = range(5)\n",
        "plt.plot(x, [x1 for x1 in x],\n",
        "         x, [x1*2 for x1 in x],\n",
        "         x, [x1*4 for x1 in x])\n",
        "plt.grid(True)\n",
        "plt.xlim(-1, 5)\n",
        "plt.ylim(-1, 10)\n",
        "plt.show()"
      ],
      "metadata": {
        "id": "stc0t3S5iLlX"
      },
      "execution_count": null,
      "outputs": []
    },
    {
      "cell_type": "markdown",
      "source": [
        "**Agregando Etiquetas, Titulos, etc**"
      ],
      "metadata": {
        "id": "V5JsQ36LiM__"
      }
    },
    {
      "cell_type": "code",
      "source": [
        "# Labels can be added to the axes of the plot\n",
        "x = range(5)\n",
        "plt.plot(x, [x1 for x1 in x],\n",
        "         x, [x1*2 for x1 in x],\n",
        "         x, [x1*4 for x1 in x])\n",
        "plt.grid(True)\n",
        "plt.xlabel('X-axis')\n",
        "plt.ylabel('Y-axis')\n",
        "plt.show()"
      ],
      "metadata": {
        "id": "kTOV-n1ViYEU"
      },
      "execution_count": null,
      "outputs": []
    },
    {
      "cell_type": "code",
      "source": [
        "# The title defines the data plotted on the graph\n",
        "x = range(5)\n",
        "plt.plot(x, [x1 for x1 in x],\n",
        "         x, [x1*2 for x1 in x],\n",
        "         x, [x1*4 for x1 in x])\n",
        "plt.grid(True)\n",
        "plt.xlabel('X-axis')\n",
        "plt.ylabel('Y-axis')\n",
        "plt.title(\"Polynomial Graph\") # Pass the title as a parameter to title()\n",
        "plt.show()"
      ],
      "metadata": {
        "id": "lzqmJc-BieBL"
      },
      "execution_count": null,
      "outputs": []
    },
    {
      "cell_type": "code",
      "source": [
        "# Legends explain the meaning of each line in the graph\n",
        "x = np.arange(5)\n",
        "plt.plot(x, x, label = 'linear')\n",
        "plt.plot(x, x*x, label = 'square')\n",
        "plt.plot(x, x*x*x, label = 'cube')\n",
        "plt.grid(True)\n",
        "plt.xlabel('X-axis')\n",
        "plt.ylabel('Y-axis')\n",
        "plt.title(\"Polynomial Graph\")\n",
        "plt.legend()\n",
        "plt.show()"
      ],
      "metadata": {
        "id": "C4QhEmspijpT"
      },
      "execution_count": null,
      "outputs": []
    },
    {
      "cell_type": "markdown",
      "source": [
        "**Marcadores**"
      ],
      "metadata": {
        "id": "KIn6dOb7imvG"
      }
    },
    {
      "cell_type": "code",
      "source": [
        "x = [1, 2, 3, 4, 5, 6]\n",
        "y = [11, 22, 33, 44, 55, 66]\n",
        "plt.plot(x, y, 'bo')\n",
        "for i in range(len(x)):\n",
        "    x_cord = x[i]\n",
        "    y_cord = y[i]\n",
        "    plt.text(x_cord, y_cord, (x_cord, y_cord), fontsize = 10)\n",
        "plt.show()"
      ],
      "metadata": {
        "id": "RZkUKYnEilW7"
      },
      "execution_count": null,
      "outputs": []
    },
    {
      "cell_type": "markdown",
      "source": [
        "**Guardando Graficas**"
      ],
      "metadata": {
        "id": "PnxmIlL7iz4L"
      }
    },
    {
      "cell_type": "code",
      "source": [
        "# Plots can be saved using savefig()\n",
        "x = np.arange(5)\n",
        "plt.plot(x, x, label = 'linear')\n",
        "plt.plot(x, x*x, label = 'square')\n",
        "plt.plot(x, x*x*x, label = 'cube')\n",
        "plt.grid(True)\n",
        "plt.xlabel('X-axis')\n",
        "plt.ylabel('Y-axis')\n",
        "plt.title(\"Polynomial Graph\")\n",
        "plt.legend()\n",
        "plt.savefig('plot.png') # Saves an image names 'plot.png' in the current directory\n",
        "plt.show()"
      ],
      "metadata": {
        "id": "xG03lSmji23c"
      },
      "execution_count": null,
      "outputs": []
    }
  ]
}